{
 "cells": [
  {
   "cell_type": "markdown",
   "id": "a94f2cc2-1bb2-4669-b1e9-1e930bd8d509",
   "metadata": {},
   "source": [
    "# Demonstrate Workflow Runner for OGC Application Packages\n",
    "## This notebook runs through some example API calls to the Workflow Runner on the EODH Platform which is build on the ADES (Application, Deployment Execution Service) component from EOEPCA"
   ]
  },
  {
   "cell_type": "code",
   "execution_count": 1,
   "id": "d22bbf8b-67e2-4116-9047-7ac822349983",
   "metadata": {},
   "outputs": [
    {
     "name": "stdout",
     "output_type": "stream",
     "text": [
      "Defaulting to user installation because normal site-packages is not writeable\n",
      "Requirement already satisfied: urllib3 in /home/tjellicoe/.local/lib/python3.9/site-packages (1.26.20)\n",
      "\n",
      "\u001b[1m[\u001b[0m\u001b[34;49mnotice\u001b[0m\u001b[1;39;49m]\u001b[0m\u001b[39;49m A new release of pip is available: \u001b[0m\u001b[31;49m24.0\u001b[0m\u001b[39;49m -> \u001b[0m\u001b[32;49m25.1.1\u001b[0m\n",
      "\u001b[1m[\u001b[0m\u001b[34;49mnotice\u001b[0m\u001b[1;39;49m]\u001b[0m\u001b[39;49m To update, run: \u001b[0m\u001b[32;49mpython3.9 -m pip install --upgrade pip\u001b[0m\n",
      "Defaulting to user installation because normal site-packages is not writeable\n",
      "Requirement already satisfied: pillow in /home/tjellicoe/.local/lib/python3.9/site-packages (10.2.0)\n",
      "\n",
      "\u001b[1m[\u001b[0m\u001b[34;49mnotice\u001b[0m\u001b[1;39;49m]\u001b[0m\u001b[39;49m A new release of pip is available: \u001b[0m\u001b[31;49m24.0\u001b[0m\u001b[39;49m -> \u001b[0m\u001b[32;49m25.1.1\u001b[0m\n",
      "\u001b[1m[\u001b[0m\u001b[34;49mnotice\u001b[0m\u001b[1;39;49m]\u001b[0m\u001b[39;49m To update, run: \u001b[0m\u001b[32;49mpython3.9 -m pip install --upgrade pip\u001b[0m\n",
      "Defaulting to user installation because normal site-packages is not writeable\n",
      "Requirement already satisfied: matplotlib in /home/tjellicoe/.local/lib/python3.9/site-packages (3.8.3)\n",
      "Requirement already satisfied: contourpy>=1.0.1 in /home/tjellicoe/.local/lib/python3.9/site-packages (from matplotlib) (1.2.0)\n",
      "Requirement already satisfied: cycler>=0.10 in /home/tjellicoe/.local/lib/python3.9/site-packages (from matplotlib) (0.12.1)\n",
      "Requirement already satisfied: fonttools>=4.22.0 in /home/tjellicoe/.local/lib/python3.9/site-packages (from matplotlib) (4.49.0)\n",
      "Requirement already satisfied: kiwisolver>=1.3.1 in /home/tjellicoe/.local/lib/python3.9/site-packages (from matplotlib) (1.4.5)\n",
      "Requirement already satisfied: numpy<2,>=1.21 in /home/tjellicoe/.local/lib/python3.9/site-packages (from matplotlib) (1.26.4)\n",
      "Requirement already satisfied: packaging>=20.0 in /home/tjellicoe/.local/lib/python3.9/site-packages (from matplotlib) (25.0)\n",
      "Requirement already satisfied: pillow>=8 in /home/tjellicoe/.local/lib/python3.9/site-packages (from matplotlib) (10.2.0)\n",
      "Requirement already satisfied: pyparsing>=2.3.1 in /home/tjellicoe/.local/lib/python3.9/site-packages (from matplotlib) (3.1.1)\n",
      "Requirement already satisfied: python-dateutil>=2.7 in /home/tjellicoe/.local/lib/python3.9/site-packages (from matplotlib) (2.8.2)\n",
      "Requirement already satisfied: importlib-resources>=3.2.0 in /home/tjellicoe/.local/lib/python3.9/site-packages (from matplotlib) (6.1.1)\n",
      "Requirement already satisfied: zipp>=3.1.0 in /home/tjellicoe/.local/lib/python3.9/site-packages (from importlib-resources>=3.2.0->matplotlib) (3.17.0)\n",
      "Requirement already satisfied: six>=1.5 in /home/tjellicoe/.local/lib/python3.9/site-packages (from python-dateutil>=2.7->matplotlib) (1.16.0)\n",
      "\n",
      "\u001b[1m[\u001b[0m\u001b[34;49mnotice\u001b[0m\u001b[1;39;49m]\u001b[0m\u001b[39;49m A new release of pip is available: \u001b[0m\u001b[31;49m24.0\u001b[0m\u001b[39;49m -> \u001b[0m\u001b[32;49m25.1.1\u001b[0m\n",
      "\u001b[1m[\u001b[0m\u001b[34;49mnotice\u001b[0m\u001b[1;39;49m]\u001b[0m\u001b[39;49m To update, run: \u001b[0m\u001b[32;49mpython3.9 -m pip install --upgrade pip\u001b[0m\n"
     ]
    }
   ],
   "source": [
    "!pip install urllib3\n",
    "!pip install pillow\n",
    "!pip install matplotlib"
   ]
  },
  {
   "cell_type": "code",
   "execution_count": 2,
   "id": "43579c18-97f5-4c72-83b2-08093a5354d5",
   "metadata": {},
   "outputs": [],
   "source": [
    "import json\n",
    "import time\n",
    "import urllib3\n",
    "http = urllib3.PoolManager(cert_reqs='CERT_NONE')\n",
    "urllib3.disable_warnings() ## to avoid SSL warnings"
   ]
  },
  {
   "cell_type": "code",
   "execution_count": 3,
   "id": "8ae51cdd-0237-4326-a4d0-4e07247a42a0",
   "metadata": {},
   "outputs": [],
   "source": [
    "## Define text colour for later output\n",
    "class bcolors:\n",
    "    OKBLUE = '\\033[94m'\n",
    "    OKGREEN = '\\033[92m'\n",
    "    WARNING = '\\033[93m'\n",
    "    ENDC = '\\033[0m'"
   ]
  },
  {
   "cell_type": "code",
   "execution_count": 4,
   "id": "39a2f949-12d5-4467-85f6-adc5bb6e1853",
   "metadata": {},
   "outputs": [],
   "source": [
    "from dotenv import load_dotenv\n",
    "import os\n",
    "\n",
    "# Load environment variables from the .env file (if present)\n",
    "load_dotenv(\"sample.env\", override=True)\n",
    "\n",
    "api_token = os.getenv(\"TOKEN\")"
   ]
  },
  {
   "cell_type": "code",
   "execution_count": null,
   "id": "1029d684-bd93-4da1-853b-4e15e17c2370",
   "metadata": {},
   "outputs": [],
   "source": [
    "## Place your workspace-scoped API token here\n",
    "workspace = \"<YOUR-WORKSPACE-HERE>\" # must align with the workspace-scoped token used above\n",
    "auth_dict = {\"Authorization\": f\"Bearer {api_token}\"}"
   ]
  },
  {
   "cell_type": "markdown",
   "id": "a140c98a-cfd9-447a-8726-2f3ea6ef39b2",
   "metadata": {},
   "source": [
    "## Below are some example API requests you can make to the ADES component\n",
    "Feel free to run these examples and change the inputs by specifying the application packages, process name and process inputs.\n",
    "\n",
    "As an example we provide three EOEPCA-developed OGC Application Package to demonstrate the successful execution using the ADES deployment:\n",
    "- [convert-url](https://github.com/EOEPCA/convert/blob/main/convert-url-app.cwl) - take an image specified by a URL and resize it by a given scale percentage\n",
    "- [convert-stac](https://github.com/EOEPCA/convert/blob/main/convert-stac-app.cwl) - take an image specified by a stac item and resize it by a given scale percentage\n",
    "- [water-bodies](https://github.com/EOEPCA/deployment-guide/blob/main/deploy/samples/requests/processing/water-bodies-app.cwl) - takes STAC items, area of interest, epsg definition and set of bands and identifies water bodies based on NDWI and Otsu threshold\n",
    "\n",
    "This application is specified by configuring the below variable"
   ]
  },
  {
   "cell_type": "code",
   "execution_count": 6,
   "id": "881bbcf8-8a74-4616-b5f0-2671133cc009",
   "metadata": {},
   "outputs": [
    {
     "name": "stdout",
     "output_type": "stream",
     "text": [
      "CWL is located at https://raw.githubusercontent.com/EO-DataHub/eodhp-ades-demonstration/refs/heads/main/snuggs.cwl\n",
      "With Application Package code available at https://github.com/EOEPCA/app-snuggs/tree/main/src/s_expression\n"
     ]
    }
   ],
   "source": [
    "# Update these variables as required to identify the running ades instance and specify workspace name\n",
    "# If the workspace does not yet exect, it will be created by the ades automatically\n",
    "wr_endpoint = \"eodatahub.org.uk/api/catalogue/stac/catalogs/user/catalogs\"\n",
    "\n",
    "# Configure workflow name and inputs\n",
    "workflow_id = \"snuggs\"\n",
    "# Open this link to view the file\n",
    "cwl_location = \"https://raw.githubusercontent.com/EO-DataHub/eodhp-ades-demonstration/refs/heads/main/snuggs.cwl\"\n",
    "inputs_dict = {\n",
    "                \"inputs\": {\n",
    "                    \"input_reference\": [\n",
    "                        \"https://earth-search.aws.element84.com/v0/collections/sentinel-s2-l2a-cogs/items/S2B_53HPA_20210723_0_L2A\"\n",
    "                    ],\n",
    "                    \"s_expression\": \"ndvi: (/ (- B08 B04) (+ B08 B04))\" \n",
    "                    }\n",
    "              }\n",
    "print(f\"CWL is located at {cwl_location}\")\n",
    "print(f\"With Application Package code available at https://github.com/EOEPCA/app-snuggs/tree/main/src/s_expression\")"
   ]
  },
  {
   "cell_type": "markdown",
   "id": "43de5b91-ae3d-41ed-a7fc-ab396b372faf",
   "metadata": {},
   "source": [
    "### List processes"
   ]
  },
  {
   "cell_type": "code",
   "execution_count": 9,
   "id": "a43afaf3-3cb0-4778-a03c-be4981919476",
   "metadata": {},
   "outputs": [
    {
     "data": {
      "text/plain": [
       "{'processes': [{'id': 'echo',\n",
       "   'title': 'Echo input',\n",
       "   'description': 'Simply echo the value provided as input',\n",
       "   'mutable': False,\n",
       "   'version': '2.0.0',\n",
       "   'metadata': [{'title': 'Demo'}],\n",
       "   'jobControlOptions': ['sync-execute', 'async-execute', 'dismiss'],\n",
       "   'outputTransmission': ['value', 'reference'],\n",
       "   'links': [{'rel': 'self',\n",
       "     'type': 'application/json',\n",
       "     'title': 'Process Description',\n",
       "     'href': 'https://eodatahub.org.uk/api/catalogue/stac/catalogs/user/catalogs/tjellicoetpzuk/processes/echo'}],\n",
       "   'AccessReasoning': 'Workspace owns this workflow'}],\n",
       " 'links': [{'rel': 'self',\n",
       "   'type': 'application/json',\n",
       "   'href': 'https://eodatahub.org.uk/api/catalogue/stac/catalogs/user/catalogs/tjellicoetpzuk/processes'}]}"
      ]
     },
     "execution_count": 9,
     "metadata": {},
     "output_type": "execute_result"
    }
   ],
   "source": [
    "url = f\"https://{wr_endpoint}/{workspace}/processes\"\n",
    "headers = {\"Accept\": \"application/json\"}\n",
    "headers.update(auth_dict)\n",
    "response = http.request('GET', url, headers=headers)\n",
    "json.loads(response.data)"
   ]
  },
  {
   "cell_type": "markdown",
   "id": "e73808f9-5008-48cb-b654-0d693740cafb",
   "metadata": {},
   "source": [
    "### Undeploy/Delete process"
   ]
  },
  {
   "cell_type": "code",
   "execution_count": 8,
   "id": "7764a414-ef11-4bde-a079-dcbb97ff746a",
   "metadata": {},
   "outputs": [
    {
     "data": {
      "text/plain": [
       "204"
      ]
     },
     "execution_count": 8,
     "metadata": {},
     "output_type": "execute_result"
    }
   ],
   "source": [
    "## Here a 204 response means the process was remove successfully, no other content is returned\n",
    "url = f\"https://{wr_endpoint}/{workspace}/processes/{workflow_id}\"\n",
    "headers = {\"Accept\": \"application/json\"}\n",
    "headers.update(auth_dict)\n",
    "params = {}\n",
    "response = http.request('DELETE', url, headers=headers)\n",
    "response.status"
   ]
  },
  {
   "cell_type": "markdown",
   "id": "f1bfbbc7-5bdc-4e7d-be54-1031ccddf1ba",
   "metadata": {},
   "source": [
    "### Deploy processes"
   ]
  },
  {
   "cell_type": "code",
   "execution_count": 10,
   "id": "4c3f7811-e73f-4ca1-9ef4-78962f9f916a",
   "metadata": {},
   "outputs": [
    {
     "data": {
      "text/plain": [
       "{'id': 'snuggs',\n",
       " 'title': 's expressions',\n",
       " 'description': 'Applies s expressions to EO acquisitions',\n",
       " 'mutable': True,\n",
       " 'version': '0.3.0',\n",
       " 'metadata': [{'role': 'https://schema.org/softwareVersion',\n",
       "   'value': '0.3.0'}],\n",
       " 'outputTransmission': ['value', 'reference'],\n",
       " 'jobControlOptions': ['async-execute', 'dismiss'],\n",
       " 'links': [{'rel': 'http://www.opengis.net/def/rel/ogc/1.0/execute',\n",
       "   'type': 'application/json',\n",
       "   'title': 'Execute End Point',\n",
       "   'href': 'https://eodatahub.org.uk/api/catalogue/stac/catalogs/user/catalogs/tjellicoetpzuk/processes/snuggs/execution'}]}"
      ]
     },
     "execution_count": 10,
     "metadata": {},
     "output_type": "execute_result"
    }
   ],
   "source": [
    "url = f\"https://{wr_endpoint}/{workspace}/processes\"\n",
    "headers = {\"Accept\": \"application/json\", \"Content-Type\": \"application/json\"}\n",
    "headers.update(auth_dict)\n",
    "params = {\"executionUnit\": {\n",
    "            \"href\": f\"{cwl_location}\",\n",
    "            \"type\": \"application/cwl\"\n",
    "            }\n",
    "         }\n",
    "response = http.request('POST', url, headers=headers, body=json.dumps(params))\n",
    "deployStatus = response.headers['Location']\n",
    "json.loads(response.data)"
   ]
  },
  {
   "cell_type": "markdown",
   "id": "797096d6-fa56-4457-a00c-41782e71b86b",
   "metadata": {},
   "source": [
    "### Get process details"
   ]
  },
  {
   "cell_type": "code",
   "execution_count": 12,
   "id": "6bdfe9e5-cce4-459c-bd8b-8ea9b346c5c0",
   "metadata": {},
   "outputs": [
    {
     "data": {
      "text/plain": [
       "{'id': 'snuggs',\n",
       " 'title': 's expressions',\n",
       " 'description': 'Applies s expressions to EO acquisitions',\n",
       " 'mutable': True,\n",
       " 'version': '0.3.0',\n",
       " 'metadata': [{'role': 'https://schema.org/softwareVersion',\n",
       "   'value': '0.3.0'}],\n",
       " 'outputTransmission': ['value', 'reference'],\n",
       " 'jobControlOptions': ['async-execute', 'dismiss'],\n",
       " 'links': [{'rel': 'http://www.opengis.net/def/rel/ogc/1.0/execute',\n",
       "   'type': 'application/json',\n",
       "   'title': 'Execute End Point',\n",
       "   'href': 'https://eodatahub.org.uk/api/catalogue/stac/catalogs/user/catalogs/tjellicoetpzuk/processes/snuggs/execution'}],\n",
       " 'inputs': {'input_reference': {'title': 'Input product reference',\n",
       "   'description': 'Input product reference',\n",
       "   'maxOccurs': 999,\n",
       "   'extended-schema': {'type': 'array',\n",
       "    'items': {'type': 'string'},\n",
       "    'minItems': 1,\n",
       "    'maxItems': 999},\n",
       "   'schema': {'type': 'string'}},\n",
       "  's_expression': {'title': 's expression',\n",
       "   'description': 's expression',\n",
       "   'maxOccurs': 999,\n",
       "   'extended-schema': {'type': 'array',\n",
       "    'items': {'type': 'string'},\n",
       "    'minItems': 1,\n",
       "    'maxItems': 999},\n",
       "   'schema': {'type': 'string'}}},\n",
       " 'outputs': {'wf_outputs': {'title': 'wf_outputs',\n",
       "   'description': 'None',\n",
       "   'extended-schema': {'oneOf': [{'allOf': [{'$ref': 'http://zoo-project.org/dl/link.json'},\n",
       "       {'type': 'object',\n",
       "        'properties': {'type': {'enum': ['application/json']}}}]},\n",
       "     {'type': 'object',\n",
       "      'required': ['value'],\n",
       "      'properties': {'value': {'oneOf': [{'type': 'object',\n",
       "          'format': 'geojson-feature-collection'}]}}}]},\n",
       "   'schema': {'oneOf': [{'type': 'object',\n",
       "      'format': 'geojson-feature-collection'}]}}}}"
      ]
     },
     "execution_count": 12,
     "metadata": {},
     "output_type": "execute_result"
    }
   ],
   "source": [
    "# This is where another user might come to discover more about the workflow\n",
    "url = f\"https://{wr_endpoint}/{workspace}/processes/{workflow_id}\"\n",
    "headers = {\"Accept\": \"application/json\"}\n",
    "headers.update(auth_dict)\n",
    "params = {}\n",
    "response = http.request('GET', url, headers=headers)\n",
    "json.loads(response.data)"
   ]
  },
  {
   "cell_type": "markdown",
   "id": "68d5af43-8025-4b63-b576-c7b2dfb6f4cb",
   "metadata": {},
   "source": [
    "### Execute process"
   ]
  },
  {
   "cell_type": "code",
   "execution_count": 13,
   "id": "67bae0a8-3adb-4d70-8911-cdc65c10cfc5",
   "metadata": {},
   "outputs": [
    {
     "name": "stdout",
     "output_type": "stream",
     "text": [
      "Running under jobID 5c8c1646-3615-11f0-88b3-56fda0cd4f2f\n"
     ]
    }
   ],
   "source": [
    "url = f\"https://{wr_endpoint}/{workspace}/processes/{workflow_id}/execution\"\n",
    "headers = {\"Accept\": \"application/json\", \"Content-Type\": \"application/json\", \"Prefer\": \"respond-async\"}\n",
    "headers.update(auth_dict)\n",
    "params = {**inputs_dict}\n",
    "response = http.request('POST', url, headers=headers, body=json.dumps(params))\n",
    "executeStatus = response.headers['Location']\n",
    "response_json = json.loads(response.data)\n",
    "job_id = response_json[\"id\"]\n",
    "print(f\"Running under jobID {job_id}\")"
   ]
  },
  {
   "cell_type": "markdown",
   "id": "7f5696ce-f6fe-4811-9762-da23cdb596bc",
   "metadata": {},
   "source": [
    "### Get execute status\n",
    "See the following section to continually poll this function instead to determine once complete"
   ]
  },
  {
   "cell_type": "code",
   "execution_count": 14,
   "id": "d15329a7-07a8-46e8-bbb3-a73f6d86b55c",
   "metadata": {},
   "outputs": [
    {
     "data": {
      "text/plain": [
       "{'progress': 20,\n",
       " 'id': '5c8c1646-3615-11f0-88b3-56fda0cd4f2f',\n",
       " 'jobID': '5c8c1646-3615-11f0-88b3-56fda0cd4f2f',\n",
       " 'type': 'process',\n",
       " 'processID': 'snuggs',\n",
       " 'created': '2025-05-21T07:29:42.804Z',\n",
       " 'started': '2025-05-21T07:29:42.804Z',\n",
       " 'updated': '2025-05-21T07:29:48.906Z',\n",
       " 'status': 'running',\n",
       " 'message': 'upload required files',\n",
       " 'links': [{'title': 'Status location',\n",
       "   'rel': 'monitor',\n",
       "   'type': 'application/json',\n",
       "   'href': 'https://eodatahub.org.uk/api/catalogue/stac/catalogs/user/catalogs/tjellicoetpzuk/jobs/5c8c1646-3615-11f0-88b3-56fda0cd4f2f'}]}"
      ]
     },
     "execution_count": 14,
     "metadata": {},
     "output_type": "execute_result"
    }
   ],
   "source": [
    "url = f\"{executeStatus}\"\n",
    "headers = {\"Accept\": \"application/json\"}\n",
    "headers.update(auth_dict)\n",
    "params = {}\n",
    "time.sleep(5)\n",
    "response = http.request('GET', url, headers=headers)\n",
    "json.loads(response.data)"
   ]
  },
  {
   "cell_type": "markdown",
   "id": "381b12ba-a9bc-443f-b8d8-cf8f05d55563",
   "metadata": {},
   "source": [
    "### Get execute status (continuous polling)\n",
    "Run this cell to keep polling the ExecuteStatus endpoint to determine when the process has finished running and also see it's final status: *SUCCESS* or *FAILED*"
   ]
  },
  {
   "cell_type": "code",
   "execution_count": 15,
   "id": "7917701a-9a07-44ee-946f-571258a0828c",
   "metadata": {},
   "outputs": [
    {
     "name": "stdout",
     "output_type": "stream",
     "text": [
      "Status is \u001b[94mRUNNING\u001b[0m\n",
      "Message is \u001b[1mupload required files\u001b[0m...\n",
      "Message is \u001b[1mexecution submitted\u001b[0m.......................................\n",
      "Message is \u001b[1mdelivering outputs, logs and usage report\u001b[0m...\n",
      "\n",
      "Status is \u001b[94mSUCCESSFUL\u001b[0m\n",
      "Message is \u001b[1mZOO-Kernel successfully run your service!\u001b[0m\n",
      "\n",
      "\u001b[92mSUCCESS\u001b[0m\n"
     ]
    }
   ],
   "source": [
    "url = f\"{executeStatus}\"\n",
    "headers = {\"Accept\": \"application/json\"}\n",
    "headers.update(auth_dict)\n",
    "params = {}\n",
    "response = http.request('GET', url, headers=headers)\n",
    "data = json.loads(response.data)\n",
    "status = data['status']\n",
    "message = data['message']\n",
    "print(\"Status is \" + bcolors.OKBLUE + status.upper() + bcolors.ENDC)\n",
    "print(\"Message is \" + \"\\033[1m\" + message + \"\\033[0m\", end=\"\")\n",
    "old_message = message\n",
    "old_status = status\n",
    "while status == \"running\":\n",
    "    time.sleep(2)\n",
    "    response = http.request('GET', url, headers=headers)\n",
    "    data = json.loads(response.data)\n",
    "    status = data['status']\n",
    "    message = data['message']\n",
    "    if status != old_status:\n",
    "        print(\"\\n\")\n",
    "        print(\"Status is \" + bcolors.OKBLUE + status.upper() + bcolors.ENDC)\n",
    "        print(\"Message is \" + \"\\033[1m\" + message + \"\\033[0m\", end=\"\")\n",
    "    elif message != old_message:\n",
    "        print(\".\")\n",
    "        print(\"Message is \" + \"\\033[1m\" + message + \"\\033[0m\", end=\"\")\n",
    "    else:\n",
    "        print(\".\", end=\"\")\n",
    "    old_message = message\n",
    "    old_status = status\n",
    "\n",
    "if status == \"successful\":\n",
    "    print(\"\\n\")\n",
    "    print(bcolors.OKGREEN + \"SUCCESS\" + bcolors.ENDC)\n",
    "\n",
    "if status == \"failed\":\n",
    "    print(bcolors.WARNING + \"FAILED\" + bcolors.ENDC)"
   ]
  },
  {
   "cell_type": "markdown",
   "id": "e8927829-7ecc-448e-b65e-01a6855a7cb2",
   "metadata": {},
   "source": [
    "### Get processing results"
   ]
  },
  {
   "cell_type": "code",
   "execution_count": 16,
   "id": "c7a11be6-bf48-4229-9cb8-416b5fcafed5",
   "metadata": {},
   "outputs": [
    {
     "data": {
      "text/plain": [
       "{'type': 'Collection',\n",
       " 'id': 'col_5c8c1646-3615-11f0-88b3-56fda0cd4f2f',\n",
       " 'stac_version': '1.0.0',\n",
       " 'description': 'description',\n",
       " 'links': [{'rel': 'root',\n",
       "   'href': 'https://tjellicoetpzuk.eodatahub-workspaces.org.uk/files/workspaces-eodhp/processing-results/snuggs.json',\n",
       "   'type': 'application/json',\n",
       "   'title': 'snuggs Outputs Catalog'},\n",
       "  {'rel': 'item',\n",
       "   'href': 'https://tjellicoetpzuk.eodatahub-workspaces.org.uk/files/workspaces-eodhp/processing-results/snuggs/catalog/col_5c8c1646-3615-11f0-88b3-56fda0cd4f2f/S2B_53HPA_20210723_0_L2A.json',\n",
       "   'type': 'application/json'},\n",
       "  {'rel': 'self',\n",
       "   'href': 'https://tjellicoetpzuk.eodatahub-workspaces.org.uk/files/workspaces-eodhp/processing-results/snuggs/catalog/col_5c8c1646-3615-11f0-88b3-56fda0cd4f2f.json',\n",
       "   'type': 'application/json'},\n",
       "  {'rel': 'parent',\n",
       "   'href': 'https://tjellicoetpzuk.eodatahub-workspaces.org.uk/files/workspaces-eodhp/processing-results/snuggs/catalog.json',\n",
       "   'type': 'application/json'}],\n",
       " 'title': 'Result Collection for Job 5c8c1646-3615-11f0-88b3-56fda0cd4f2f',\n",
       " 'extent': {'spatial': {'bbox': [[136.09905192261127,\n",
       "     -36.22788818051635,\n",
       "     137.33381497932513,\n",
       "     -35.22113204961173]]},\n",
       "  'temporal': {'interval': [['2021-07-23T00:57:07Z',\n",
       "     '2021-07-23T00:57:07Z']]}},\n",
       " 'license': 'proprietary',\n",
       " 'keywords': ['eoepca']}"
      ]
     },
     "execution_count": 16,
     "metadata": {},
     "output_type": "execute_result"
    }
   ],
   "source": [
    "## Note, this will return a 500 response when no output is produced\n",
    "url = f\"{executeStatus}/results\"\n",
    "headers = {\"Accept\": \"application/json\"}\n",
    "headers.update(auth_dict)\n",
    "params = {}\n",
    "response = http.request('GET', url, headers=headers)\n",
    "response_json = json.loads(response.data)\n",
    "response_json"
   ]
  },
  {
   "cell_type": "markdown",
   "id": "4680016d-6f5b-47a1-878c-657100e43b16",
   "metadata": {},
   "source": [
    "### List jobs"
   ]
  },
  {
   "cell_type": "code",
   "execution_count": 56,
   "id": "2ff9c681-fcb4-47ae-b387-33868313fc66",
   "metadata": {},
   "outputs": [],
   "source": [
    "url = f\"https://{wr_endpoint}/{workspace}/jobs\"\n",
    "headers = {\"Accept\": \"application/json\"}\n",
    "headers.update(auth_dict)\n",
    "params = {}\n",
    "response = http.request('GET', url, headers=headers)\n",
    "# json.loads(response.data)"
   ]
  },
  {
   "cell_type": "markdown",
   "id": "af824d94-c823-486d-96b5-8d55424bbf84",
   "metadata": {},
   "source": [
    "### Delete a Running Job"
   ]
  },
  {
   "cell_type": "code",
   "execution_count": 57,
   "id": "5ed446c6-2fbd-4187-a5cf-55187e0bd61f",
   "metadata": {},
   "outputs": [],
   "source": [
    "job_id = \"your-job-id\"\n",
    "url = f\"https://{wr_endpoint}/{workspace}/jobs/{job_id}\"\n",
    "headers = {\"Accept\": \"application/json\"}\n",
    "headers.update(auth_dict)\n",
    "## Uncomment the following lines if you wish to delete the running Job as specified in `job_id` above\n",
    "# response = http.request('DELETE', url, headers=headers)\n",
    "# response.status"
   ]
  },
  {
   "cell_type": "markdown",
   "id": "afdaf4c0-9f38-4a70-bedf-4d0f8f37af1c",
   "metadata": {},
   "source": [
    "### Undeploy/Delete process"
   ]
  },
  {
   "cell_type": "code",
   "execution_count": 58,
   "id": "8f8537dd-d0f8-4916-aae7-6d46f1a48d2f",
   "metadata": {},
   "outputs": [],
   "source": [
    "## Here a 204 response means the process was remove successfully, no other content is returned\n",
    "url = f\"https://{wr_endpoint}/{workspace}/processes/{workflow_id}\"\n",
    "headers = {\"Accept\": \"application/json\"}\n",
    "headers.update(auth_dict)\n",
    "params = {}\n",
    "# response = http.request('DELETE', url, headers=headers)\n",
    "# response.status\n"
   ]
  },
  {
   "cell_type": "markdown",
   "id": "51e0e635-dbe8-4b01-ba5b-9a8c97739ea7",
   "metadata": {},
   "source": [
    "### View Resulting Data in the Resource Catalogue"
   ]
  },
  {
   "cell_type": "code",
   "execution_count": 19,
   "id": "9ce64f62-2cba-45af-b995-e783fc00674f",
   "metadata": {},
   "outputs": [
    {
     "name": "stdout",
     "output_type": "stream",
     "text": [
      "Looking for items at https://eodatahub.org.uk/api/catalogue/stac/catalogs/user/catalogs/tjellicoetpzuk/catalogs/processing-results/catalogs/snuggs/catalogs/catalog/collections/col_5c8c1646-3615-11f0-88b3-56fda0cd4f2f/items\n",
      "{\n",
      "  \"type\": \"FeatureCollection\",\n",
      "  \"features\": [\n",
      "    {\n",
      "      \"type\": \"Feature\",\n",
      "      \"stac_version\": \"1.0.0\",\n",
      "      \"stac_extensions\": [\n",
      "        \"https://stac-extensions.github.io/eo/v1.1.0/schema.json\",\n",
      "        \"https://stac-extensions.github.io/view/v1.0.0/schema.json\",\n",
      "        \"https://stac-extensions.github.io/projection/v1.1.0/schema.json\"\n",
      "      ],\n",
      "      \"id\": \"S2B_53HPA_20210723_0_L2A\",\n",
      "      \"collection\": \"col_5c8c1646-3615-11f0-88b3-56fda0cd4f2f\",\n",
      "      \"geometry\": {\n",
      "        \"type\": \"Polygon\",\n",
      "        \"coordinates\": [\n",
      "          [\n",
      "            [\n",
      "              136.11273785955868,\n",
      "              -36.22788818051635\n",
      "            ],\n",
      "            [\n",
      "              136.09905192261127,\n",
      "              -35.238096451039816\n",
      "            ],\n",
      "            [\n",
      "              137.30513468251897,\n",
      "              -35.22113204961173\n",
      "            ],\n",
      "            [\n",
      "              137.33381497932513,\n",
      "              -36.21029815477051\n",
      "            ],\n",
      "            [\n",
      "              136.11273785955868,\n",
      "              -36.22788818051635\n",
      "            ]\n",
      "          ]\n",
      "        ]\n",
      "      },\n",
      "      \"bbox\": [\n",
      "        136.09905192261127,\n",
      "        -36.22788818051635,\n",
      "        137.33381497932513,\n",
      "        -35.22113204961173\n",
      "      ],\n",
      "      \"properties\": {\n",
      "        \"datetime\": \"2021-07-23T00:57:07Z\",\n",
      "        \"created\": \"2021-07-23T04:02:10.550000Z\",\n",
      "        \"updated\": \"2021-07-23T04:02:10.550000Z\",\n",
      "        \"platform\": \"sentinel-2b\",\n",
      "        \"instruments\": [\n",
      "          \"msi\"\n",
      "        ],\n",
      "        \"constellation\": \"sentinel-2\",\n",
      "        \"gsd\": 10.0,\n",
      "        \"view:off_nadir\": 0,\n",
      "        \"proj:epsg\": 32753,\n",
      "        \"sentinel:utm_zone\": 53,\n",
      "        \"sentinel:latitude_band\": \"H\",\n",
      "        \"sentinel:grid_square\": \"PA\",\n",
      "        \"sentinel:sequence\": \"0\",\n",
      "        \"sentinel:product_id\": \"S2B_MSIL2A_20210723T004709_N0301_R102_T53HPA_20210723T022813\",\n",
      "        \"sentinel:data_coverage\": 100,\n",
      "        \"eo:cloud_cover\": 9.52,\n",
      "        \"sentinel:valid_cloud_cover\": true\n",
      "      },\n",
      "      \"links\": [\n",
      "        {\n",
      "          \"rel\": \"self\",\n",
      "          \"type\": \"application/geo+json\",\n",
      "          \"href\": \"https://eodatahub.org.uk/api/catalogue/stac/catalogs/user/catalogs/tjellicoetpzuk/catalogs/processing-results/catalogs/snuggs/catalogs/catalog/collections/col_5c8c1646-3615-11f0-88b3-56fda0cd4f2f/items/S2B_53HPA_20210723_0_L2A\"\n",
      "        },\n",
      "        {\n",
      "          \"rel\": \"parent\",\n",
      "          \"type\": \"application/json\",\n",
      "          \"href\": \"https://eodatahub.org.uk/api/catalogue/stac/catalogs/user/catalogs/tjellicoetpzuk/catalogs/processing-results/catalogs/snuggs/catalogs/catalog/collections/col_5c8c1646-3615-11f0-88b3-56fda0cd4f2f\"\n",
      "        },\n",
      "        {\n",
      "          \"rel\": \"collection\",\n",
      "          \"type\": \"application/json\",\n",
      "          \"href\": \"https://eodatahub.org.uk/api/catalogue/stac/catalogs/user/catalogs/tjellicoetpzuk/catalogs/processing-results/catalogs/snuggs/catalogs/catalog/collections/col_5c8c1646-3615-11f0-88b3-56fda0cd4f2f\"\n",
      "        },\n",
      "        {\n",
      "          \"rel\": \"root\",\n",
      "          \"type\": \"application/json\",\n",
      "          \"href\": \"https://eodatahub.org.uk/api/catalogue/stac/\"\n",
      "        }\n",
      "      ],\n",
      "      \"assets\": {\n",
      "        \"ndvi\": {\n",
      "          \"href\": \"https://tjellicoetpzuk.eodatahub-workspaces.org.uk/files/workspaces-eodhp/processing-results/snuggs/catalog/col_5c8c1646-3615-11f0-88b3-56fda0cd4f2f/S2B_53HPA_20210723_0_L2A/ndvi.tif\",\n",
      "          \"type\": \"image/tiff; application=geotiff; profile=cloud-optimized\",\n",
      "          \"roles\": [\n",
      "            \"data\"\n",
      "          ],\n",
      "          \"s-expression\": \" (/ (- B08 B04) (+ B08 B04))\"\n",
      "        }\n",
      "      }\n",
      "    }\n",
      "  ],\n",
      "  \"links\": [\n",
      "    {\n",
      "      \"rel\": \"root\",\n",
      "      \"type\": \"application/json\",\n",
      "      \"href\": \"https://eodatahub.org.uk/api/catalogue/stac/\"\n",
      "    },\n",
      "    {\n",
      "      \"rel\": \"self\",\n",
      "      \"type\": \"application/json\",\n",
      "      \"href\": \"https://eodatahub.org.uk/api/catalogue/stac/catalogs/user/catalogs/tjellicoetpzuk/catalogs/processing-results/catalogs/snuggs/catalogs/catalog/collections/col_5c8c1646-3615-11f0-88b3-56fda0cd4f2f/items\"\n",
      "    }\n",
      "  ],\n",
      "  \"numReturned\": 1,\n",
      "  \"numMatched\": 1\n",
      "}\n"
     ]
    }
   ],
   "source": [
    "## View resulting dataset\n",
    "results_catalog_url = f\"https://eodatahub.org.uk/api/catalogue/stac/catalogs/user/catalogs/{workspace}/catalogs/processing-results/catalogs/{workflow_id}\"\n",
    "results_items_url = results_catalog_url + f\"/catalogs/catalog/collections/col_{job_id}/items\"\n",
    "print(f\"Looking for items at {results_items_url}\")\n",
    "response = http.request('GET', results_items_url, headers=headers)\n",
    "\n",
    "items = json.loads(response.data)\n",
    "print(json.dumps(items, indent=2))"
   ]
  },
  {
   "cell_type": "code",
   "execution_count": 20,
   "id": "d006a927-414b-439b-8ebd-e4ec3f9b2374",
   "metadata": {},
   "outputs": [
    {
     "name": "stdout",
     "output_type": "stream",
     "text": [
      "{\n",
      "  \"ndvi\": {\n",
      "    \"href\": \"https://tjellicoetpzuk.eodatahub-workspaces.org.uk/files/workspaces-eodhp/processing-results/snuggs/catalog/col_5c8c1646-3615-11f0-88b3-56fda0cd4f2f/S2B_53HPA_20210723_0_L2A/ndvi.tif\",\n",
      "    \"type\": \"image/tiff; application=geotiff; profile=cloud-optimized\",\n",
      "    \"roles\": [\n",
      "      \"data\"\n",
      "    ],\n",
      "    \"s-expression\": \" (/ (- B08 B04) (+ B08 B04))\"\n",
      "  }\n",
      "}\n"
     ]
    }
   ],
   "source": [
    "# Extract first item\n",
    "item = items[\"features\"][0]\n",
    "\n",
    "# Extract assets\n",
    "assets = item[\"assets\"]\n",
    "print(json.dumps(assets, indent=2))\n"
   ]
  },
  {
   "cell_type": "code",
   "execution_count": null,
   "id": "aee01323-a77c-474b-83bf-a75c9411375d",
   "metadata": {},
   "outputs": [
    {
     "name": "stderr",
     "output_type": "stream",
     "text": [
      "/home/tjellicoe/.local/lib/python3.9/site-packages/matplotlib/projections/__init__.py:63: UserWarning: Unable to import Axes3D. This may be due to multiple versions of Matplotlib being installed (e.g. as a system package and as a pip package). As a result, the 3D projection is not available.\n",
      "  warnings.warn(\"Unable to import Axes3D. This may be due to multiple versions of \"\n",
      "/tmp/ipykernel_3139010/4029050315.py:9: DeprecationWarning: \n",
      "Pyarrow will become a required dependency of pandas in the next major release of pandas (pandas 3.0),\n",
      "(to allow more performant data types, such as the Arrow string type, and better interoperability with other libraries)\n",
      "but was not found to be installed on your system.\n",
      "If this would cause problems for you,\n",
      "please provide us feedback at https://github.com/pandas-dev/pandas/issues/54466\n",
      "        \n",
      "  import pandas as pd\n"
     ]
    }
   ],
   "source": [
    "## Download asset tif\n",
    "asset_href = assets[\"ndvi\"][\"href\"]\n",
    "\n",
    "import requests\n",
    "from PIL import Image\n",
    "import io\n",
    "import matplotlib.pyplot as plt\n",
    "import numpy as np\n",
    "import pandas as pd\n",
    "\n",
    "# Fetch the file from the URL\n",
    "response = requests.get(asset_href, headers=headers)\n",
    "response.raise_for_status()  # Ensure the request was successful\n",
    "\n",
    "# Open the image using Pillow\n",
    "image = Image.open(io.BytesIO(response.content))\n",
    "data = np.array(image)  # Convert image to a numpy array\n",
    "\n",
    "# Convert the numpy array to a dataframe\n",
    "df = pd.DataFrame(data)\n",
    "df"
   ]
  },
  {
   "cell_type": "code",
   "execution_count": null,
   "id": "e13bc7c3-16f9-4f3a-b8e2-077ac9e75895",
   "metadata": {},
   "outputs": [],
   "source": [
    "# Plotting the heatmap\n",
    "plt.imshow(data, cmap='viridis')\n",
    "plt.colorbar()\n",
    "plt.title(\"Normalised Difference Vegetation Index\")\n",
    "plt.show()"
   ]
  },
  {
   "cell_type": "code",
   "execution_count": null,
   "id": "81e5a453-88df-44be-a690-f9386ad41f65",
   "metadata": {},
   "outputs": [],
   "source": []
  }
 ],
 "metadata": {
  "kernelspec": {
   "display_name": "Python 3 (ipykernel)",
   "language": "python",
   "name": "python3"
  },
  "language_info": {
   "codemirror_mode": {
    "name": "ipython",
    "version": 3
   },
   "file_extension": ".py",
   "mimetype": "text/x-python",
   "name": "python",
   "nbconvert_exporter": "python",
   "pygments_lexer": "ipython3",
   "version": "3.9.21"
  }
 },
 "nbformat": 4,
 "nbformat_minor": 5
}
